{
 "cells": [
  {
   "cell_type": "markdown",
   "metadata": {},
   "source": [
    "# Tutorial estimación de esfuerzo utilizando Probe"
   ]
  },
  {
   "cell_type": "markdown",
   "metadata": {},
   "source": [
    "## Cómo usar este tutorial\n",
    "\n",
    "- Esta es su copia de trabajo, por favor lea los textos para seguir el tutorial.\n",
    "- Para ejecutar una celda con código, párese en la misma y presione el botón *Run* en la parte superior. Los cálculos se deben ir ejecutando en la secuencia que está definida en el documento. \n",
    "- Puede usar la opción Kernel->Restart para reiniciar su notebook.\n",
    "- Puede realizar modificaciones si quiere realizar pruebas."
   ]
  },
  {
   "cell_type": "markdown",
   "metadata": {},
   "source": [
    "## Objetivos del tutorial\n",
    "\n",
    "En este  tutorial utilizaremos el método de Probe (Proxy based estimation) para estimar el esfuerzo necesario, medido en horas de trabajo, para desarrollar una aplicación utilizando datos históricos y para analizar si los datos históricos son adecuados para el cálculo de la regresión.\n",
    "\n",
    "Los pasos que seguiremos son: \n",
    "1. Crear la gráfica de dispersión de los datos históricos. \n",
    "2. Calcular algunas estadisticas básicas a partir de los datos históricos.\n",
    "3. Calcular la regresión lineal con base en los históricos.\n",
    "4. Estimar el esfuerzo de un proyecto utilizando la regresión lineal.\n",
    "5. Calcular los intervalos de confianza de la estimación.\n",
    "\n",
    "_____\n",
    "Este tutorial ha sido desarrollado en la Universidad de los Andes, Colombia\n"
   ]
  },
  {
   "cell_type": "code",
   "execution_count": 1,
   "metadata": {},
   "outputs": [],
   "source": [
    "# Importar las librería que se requieren para realizar el ejercicio\n",
    "import pandas as pd\n",
    "from scipy import stats\n",
    "import numpy as np\n",
    "import matplotlib.pyplot as plt\n",
    "from IPython.display import display, Markdown, Latex\n",
    "\n",
    "plt.rcParams[\"figure.figsize\"]=10,7"
   ]
  },
  {
   "cell_type": "markdown",
   "metadata": {},
   "source": [
    "### Datos históricos\n",
    "Vamos a suponer que tenemos los siguientes datos históricos de proyectos anteriores. En la primera columna se encuentra el código proyecto; en la columna LOCs totales (X) se presenta el tamaño real en líneas de código (LOCs) que incluye LOCs de typescript, html, css y, en columna Tiempo real (Y) se presenta el tiempo total invertido para desarrollar el proyecto. Estel tiempo suma todas las actividades del proyecto de cada una de las iteraciones realizadas incluyendo requisitos, diseños, codificación, entrega, pruebas, etc. Se incluye el tiempo de las primeras 5 entregas a producción; los proyectos se siguen manteniendo y actualizando. \n",
    "\n",
    "La siguiente instrucción carga y muestra la lista de datos, contenidos en el archivo *datos_tutorial.csv*:"
   ]
  },
  {
   "cell_type": "code",
   "execution_count": 2,
   "metadata": {},
   "outputs": [
    {
     "data": {
      "text/html": [
       "<div>\n",
       "<style scoped>\n",
       "    .dataframe tbody tr th:only-of-type {\n",
       "        vertical-align: middle;\n",
       "    }\n",
       "\n",
       "    .dataframe tbody tr th {\n",
       "        vertical-align: top;\n",
       "    }\n",
       "\n",
       "    .dataframe thead th {\n",
       "        text-align: right;\n",
       "    }\n",
       "</style>\n",
       "<table border=\"1\" class=\"dataframe\">\n",
       "  <thead>\n",
       "    <tr style=\"text-align: right;\">\n",
       "      <th></th>\n",
       "      <th>LOCs Totales</th>\n",
       "      <th>Tiempo Real</th>\n",
       "    </tr>\n",
       "  </thead>\n",
       "  <tbody>\n",
       "    <tr>\n",
       "      <th>0</th>\n",
       "      <td>209732</td>\n",
       "      <td>19440</td>\n",
       "    </tr>\n",
       "    <tr>\n",
       "      <th>1</th>\n",
       "      <td>233456</td>\n",
       "      <td>25600</td>\n",
       "    </tr>\n",
       "    <tr>\n",
       "      <th>2</th>\n",
       "      <td>223984</td>\n",
       "      <td>22400</td>\n",
       "    </tr>\n",
       "    <tr>\n",
       "      <th>3</th>\n",
       "      <td>256000</td>\n",
       "      <td>36800</td>\n",
       "    </tr>\n",
       "    <tr>\n",
       "      <th>4</th>\n",
       "      <td>275670</td>\n",
       "      <td>42000</td>\n",
       "    </tr>\n",
       "    <tr>\n",
       "      <th>5</th>\n",
       "      <td>300458</td>\n",
       "      <td>61520</td>\n",
       "    </tr>\n",
       "    <tr>\n",
       "      <th>6</th>\n",
       "      <td>324897</td>\n",
       "      <td>71480</td>\n",
       "    </tr>\n",
       "  </tbody>\n",
       "</table>\n",
       "</div>"
      ],
      "text/plain": [
       "   LOCs Totales  Tiempo Real\n",
       "0        209732        19440\n",
       "1        233456        25600\n",
       "2        223984        22400\n",
       "3        256000        36800\n",
       "4        275670        42000\n",
       "5        300458        61520\n",
       "6        324897        71480"
      ]
     },
     "execution_count": 2,
     "metadata": {},
     "output_type": "execute_result"
    }
   ],
   "source": [
    "# Leer los datos históricos\n",
    "datos = pd.read_csv(\"datos_tutorial.csv\")\n",
    "datos"
   ]
  },
  {
   "cell_type": "markdown",
   "metadata": {},
   "source": [
    "### Características de los proyectos\n",
    "\n",
    "Los proyectos en la tabla anterior tienen las siguientes características:\n",
    "\n",
    "- Corresponden a aplicaciones web desarrolladas en Angular. \n",
    "- El equipo de desarrollo varía entre 5 y 10 desarrolladores. \n",
    "- La estabilidad de los requisitos fue alta y similar entre los proyectos.  \n",
    "- En todo los casos se desarrolló utilizando integración continua. El proceso de desarrollo es bien conocido por los desarrolladores\n",
    "- El equipo tiene experiencia en proyectos similares\n"
   ]
  },
  {
   "cell_type": "markdown",
   "metadata": {},
   "source": [
    "## 1. Crear la gráfica de dispersión\n",
    "\n",
    "La siguiente figura nos muestra la dispersión de los puntos en el plano cartesiano. El eje x corresponde a los datos de tamaño de los proyectos medidos en líneas de código LOCs. El eje y correspode a los datos del esfuerzo invertido en los proyectos medido en Horas. \n",
    "\n",
    "Es importante identificar en la gráfica si los puntos, que corresponden a datos históricos reales de proyectos, se aproximan a una línea recta o no. En este caso, podemos observar que estos puntos tienden a una línea recta. \n",
    "Esto se debe a que los proyectos tuvieron unas características muy similares lo que hace que podamos obviar otros factores de complejidad en el desarrollo de tal forma que el tamaño del proyecto y el esfuerzo estpán relacionados de forma lineal."
   ]
  },
  {
   "cell_type": "code",
   "execution_count": 3,
   "metadata": {
    "scrolled": false
   },
   "outputs": [
    {
     "data": {
      "image/png": "[encoded data removed]",
      "text/plain": [
       "<Figure size 720x504 with 1 Axes>"
      ]
     },
     "metadata": {
      "needs_background": "light"
     },
     "output_type": "display_data"
    }
   ],
   "source": [
    "# 1. Crear la gráfica de dispersión de los datos históricos\n",
    "\n",
    "ax = datos.plot.scatter(x='LOCs Totales', y='Tiempo Real', label='Históricos de proyectos reales')\n",
    "ax.set_xlabel('Tamaño (LOCs)')\n",
    "ax.set_ylabel('Esfuerzo (Horas)')\n",
    "plt.title(\"Gráfica de dispersión de los datos históricos\")\n",
    "plt.legend()\n",
    "plt.grid(True)\n",
    "plt.show()"
   ]
  },
  {
   "cell_type": "markdown",
   "metadata": {},
   "source": [
    "## 2. Calcular estadísticas básicas sobre la muestra\n",
    "\n",
    "Antes de continuar vamos a calcular algunas estadísticas básicas, necesarias para el cálculo de la regresión lineal. La siguiente tabla presenta:\n",
    "- El tamaño de la muestra es 7. \n",
    "- Promedio del tamaño (LOCs) y del Esfuerzo (Tiempo Real)\n",
    "- Desviación estándar del tamaño (LOCs) y del Esfuerzo (Tiempo Real)\n",
    "...\n"
   ]
  },
  {
   "cell_type": "code",
   "execution_count": 4,
   "metadata": {
    "scrolled": true
   },
   "outputs": [
    {
     "data": {
      "text/html": [
       "<div>\n",
       "<style scoped>\n",
       "    .dataframe tbody tr th:only-of-type {\n",
       "        vertical-align: middle;\n",
       "    }\n",
       "\n",
       "    .dataframe tbody tr th {\n",
       "        vertical-align: top;\n",
       "    }\n",
       "\n",
       "    .dataframe thead th {\n",
       "        text-align: right;\n",
       "    }\n",
       "</style>\n",
       "<table border=\"1\" class=\"dataframe\">\n",
       "  <thead>\n",
       "    <tr style=\"text-align: right;\">\n",
       "      <th></th>\n",
       "      <th>LOCs Totales</th>\n",
       "      <th>Tiempo Real</th>\n",
       "    </tr>\n",
       "  </thead>\n",
       "  <tbody>\n",
       "    <tr>\n",
       "      <th>count</th>\n",
       "      <td>7.000000</td>\n",
       "      <td>7.000000</td>\n",
       "    </tr>\n",
       "    <tr>\n",
       "      <th>mean</th>\n",
       "      <td>260599.571429</td>\n",
       "      <td>39891.428571</td>\n",
       "    </tr>\n",
       "    <tr>\n",
       "      <th>std</th>\n",
       "      <td>42103.267664</td>\n",
       "      <td>20033.687819</td>\n",
       "    </tr>\n",
       "    <tr>\n",
       "      <th>min</th>\n",
       "      <td>209732.000000</td>\n",
       "      <td>19440.000000</td>\n",
       "    </tr>\n",
       "    <tr>\n",
       "      <th>25%</th>\n",
       "      <td>228720.000000</td>\n",
       "      <td>24000.000000</td>\n",
       "    </tr>\n",
       "    <tr>\n",
       "      <th>50%</th>\n",
       "      <td>256000.000000</td>\n",
       "      <td>36800.000000</td>\n",
       "    </tr>\n",
       "    <tr>\n",
       "      <th>75%</th>\n",
       "      <td>288064.000000</td>\n",
       "      <td>51760.000000</td>\n",
       "    </tr>\n",
       "    <tr>\n",
       "      <th>max</th>\n",
       "      <td>324897.000000</td>\n",
       "      <td>71480.000000</td>\n",
       "    </tr>\n",
       "  </tbody>\n",
       "</table>\n",
       "</div>"
      ],
      "text/plain": [
       "        LOCs Totales   Tiempo Real\n",
       "count       7.000000      7.000000\n",
       "mean   260599.571429  39891.428571\n",
       "std     42103.267664  20033.687819\n",
       "min    209732.000000  19440.000000\n",
       "25%    228720.000000  24000.000000\n",
       "50%    256000.000000  36800.000000\n",
       "75%    288064.000000  51760.000000\n",
       "max    324897.000000  71480.000000"
      ]
     },
     "execution_count": 4,
     "metadata": {},
     "output_type": "execute_result"
    }
   ],
   "source": [
    "# 2. Calcular algunas estadisticas básicas a partir de los datos históricos.\n",
    "# Calcula el promedio (mean), la desviación estándar (std), mínimo (min), \n",
    "# el valor al 25%, 50% y 75% de la normal y el máximo (máx). \n",
    "# Los cálculos se realizan tanto para el tamaño como para el esfuerzo.\n",
    "\n",
    "datos.describe()"
   ]
  },
  {
   "cell_type": "markdown",
   "metadata": {},
   "source": [
    "Con la siguiente instrucción calculamos la varianza"
   ]
  },
  {
   "cell_type": "code",
   "execution_count": 5,
   "metadata": {},
   "outputs": [
    {
     "data": {
      "text/plain": [
       "LOCs Totales    1.772685e+09\n",
       "Tiempo Real     4.013486e+08\n",
       "dtype: float64"
      ]
     },
     "execution_count": 5,
     "metadata": {},
     "output_type": "execute_result"
    }
   ],
   "source": [
    "# Calcular varianza\n",
    "datos.var()"
   ]
  },
  {
   "cell_type": "markdown",
   "metadata": {},
   "source": [
    "Con la siguiente instrucción calculamos la covarianza entre el tamaño y el esfuerzo:"
   ]
  },
  {
   "cell_type": "code",
   "execution_count": 6,
   "metadata": {},
   "outputs": [
    {
     "data": {
      "text/html": [
       "<div>\n",
       "<style scoped>\n",
       "    .dataframe tbody tr th:only-of-type {\n",
       "        vertical-align: middle;\n",
       "    }\n",
       "\n",
       "    .dataframe tbody tr th {\n",
       "        vertical-align: top;\n",
       "    }\n",
       "\n",
       "    .dataframe thead th {\n",
       "        text-align: right;\n",
       "    }\n",
       "</style>\n",
       "<table border=\"1\" class=\"dataframe\">\n",
       "  <thead>\n",
       "    <tr style=\"text-align: right;\">\n",
       "      <th></th>\n",
       "      <th>LOCs Totales</th>\n",
       "      <th>Tiempo Real</th>\n",
       "    </tr>\n",
       "  </thead>\n",
       "  <tbody>\n",
       "    <tr>\n",
       "      <th>LOCs Totales</th>\n",
       "      <td>1.772685e+09</td>\n",
       "      <td>8.346391e+08</td>\n",
       "    </tr>\n",
       "    <tr>\n",
       "      <th>Tiempo Real</th>\n",
       "      <td>8.346391e+08</td>\n",
       "      <td>4.013486e+08</td>\n",
       "    </tr>\n",
       "  </tbody>\n",
       "</table>\n",
       "</div>"
      ],
      "text/plain": [
       "              LOCs Totales   Tiempo Real\n",
       "LOCs Totales  1.772685e+09  8.346391e+08\n",
       "Tiempo Real   8.346391e+08  4.013486e+08"
      ]
     },
     "execution_count": 6,
     "metadata": {},
     "output_type": "execute_result"
    }
   ],
   "source": [
    "# Calcular covarianza\n",
    "datos.cov()"
   ]
  },
  {
   "cell_type": "markdown",
   "metadata": {},
   "source": [
    "## 3. Calcular la regresión lineal \n",
    "\n",
    "La fórmula de la regresión lineal es la siguiente:\n",
    "\n",
    "$ Y = b_0 + b1 * X$\n",
    "\n",
    "En nuestro caso, *Y* corresponde al **Esfuerzo en Horas** y *X* corresponde al **Tamaño en LOCs**. \n",
    "En la fórmula, $b_0$ y $b_1$ son dos constantes, la primera es el valor de $Y$ cuando $X$ vale $0$ y la segunda la pendiente de la línea, que se calculan con las siguientes fórmulas:\n",
    "\n",
    "$b_0 = \\frac{covarianza}{varianza X}$\n",
    "\n",
    "$b_1 = mean \\cdot Y - B_0 \\cdot mean X$"
   ]
  },
  {
   "cell_type": "code",
   "execution_count": 7,
   "metadata": {},
   "outputs": [
    {
     "data": {
      "text/markdown": [
       "El valor de $R^2$ de nuestra regresión es de $0.98951$"
      ],
      "text/plain": [
       "<IPython.core.display.Markdown object>"
      ]
     },
     "metadata": {},
     "output_type": "display_data"
    },
    {
     "data": {
      "text/markdown": [
       "El valor de $b_0$ (intercepto) de nuestra regresión es de $-82807.52$"
      ],
      "text/plain": [
       "<IPython.core.display.Markdown object>"
      ]
     },
     "metadata": {},
     "output_type": "display_data"
    },
    {
     "data": {
      "text/markdown": [
       "El valor de $b_1$ (pendiente) de nuestra regresión es de $0.47$"
      ],
      "text/plain": [
       "<IPython.core.display.Markdown object>"
      ]
     },
     "metadata": {},
     "output_type": "display_data"
    }
   ],
   "source": [
    "# 3. Calcular la regresión lineal con base en los históricos.\n",
    "\n",
    "regresion = stats.linregress(datos['LOCs Totales'], datos['Tiempo Real'])\n",
    "\n",
    "display(Markdown(\"El valor de $R^2$ de nuestra regresión es de ${:.5f}$\".format(regresion.rvalue)))\n",
    "display(Markdown(\"El valor de $b_0$ (intercepto) de nuestra regresión es de ${:.2f}$\".format(regresion.intercept)))\n",
    "display(Markdown(\"El valor de $b_1$ (pendiente) de nuestra regresión es de ${:.2f}$\".format(regresion.slope)))"
   ]
  },
  {
   "cell_type": "code",
   "execution_count": 8,
   "metadata": {},
   "outputs": [
    {
     "data": {
      "image/png": "[encoded data removed]",
      "text/plain": [
       "<Figure size 720x504 with 1 Axes>"
      ]
     },
     "metadata": {
      "needs_background": "light"
     },
     "output_type": "display_data"
    }
   ],
   "source": [
    "# Grafica la línea que representa la regresión lineal. \n",
    "\n",
    "ax = datos.plot.scatter(x='LOCs Totales', y='Tiempo Real', label='Históricos de proyectos reales')\n",
    "\n",
    "plt.plot(datos['LOCs Totales'], regresion.intercept+(regresion.slope*datos['LOCs Totales']),'r', label='regresión', marker='x')\n",
    "ax.set_xlabel('Tamaño (LOCs)')\n",
    "ax.set_ylabel('Esfuerzo (Horas)')\n",
    "\n",
    "plt.title(\"Regresión lineal para los datos históricos\")\n",
    "\n",
    "plt.legend()\n",
    "plt.grid(True)"
   ]
  },
  {
   "cell_type": "markdown",
   "metadata": {},
   "source": [
    "## 4. Estimar el esfuerzo de un proyecto\n",
    "\n",
    "\n"
   ]
  },
  {
   "cell_type": "code",
   "execution_count": 9,
   "metadata": {},
   "outputs": [
    {
     "data": {
      "text/markdown": [
       "Supongamos  que tenemos un estimado de tamaño de $289700$ LOCs. Utilizando la regresión lineal que calculamos podemos determinar el esfuerzo:"
      ],
      "text/plain": [
       "<IPython.core.display.Markdown object>"
      ]
     },
     "metadata": {},
     "output_type": "display_data"
    },
    {
     "data": {
      "text/markdown": [
       "Con el tamaño estimado dado de  $X=289700$ el esfuerzo utilizando la regresión lineal es $Y=53592.88 Horas$"
      ],
      "text/plain": [
       "<IPython.core.display.Markdown object>"
      ]
     },
     "metadata": {},
     "output_type": "display_data"
    },
    {
     "data": {
      "text/markdown": [
       "Transformando el valor anterior a persona-mes (con un número de horas efectivas al mes de 140) obtenemos un esfuerzo total de $382.81$ Persona-mes"
      ],
      "text/plain": [
       "<IPython.core.display.Markdown object>"
      ]
     },
     "metadata": {},
     "output_type": "display_data"
    }
   ],
   "source": [
    "# 4. Estimar el esfuerzo de un proyecto utilizando la regresión lineal.\n",
    "# Vamos a suponer que tenemos, para un nuevo proyecto, una estimación de tamaño de 289700 LOCs\n",
    "\n",
    "X= 289700\n",
    "\n",
    "display(Markdown('Supongamos  que tenemos un estimado de tamaño de ${}$ LOCs. Utilizando la regresión lineal que calculamos podemos determinar el esfuerzo:'\\\n",
    "                 .format(X)))\n",
    "\n",
    "Esfuerzo = regresion.intercept+regresion.slope*X\n",
    "display(Markdown('Con el tamaño estimado dado de  $X={}$ el esfuerzo utilizando la regresión lineal es $Y={:.2f} Horas$'\\\n",
    "                 .format(X, Esfuerzo)))\n",
    "\n",
    "display(Markdown('Transformando el valor anterior a persona-mes (con un número de horas efectivas al mes de 140) obtenemos un esfuerzo total de ${:.2f}$ Persona-mes'\\\n",
    "                 .format(Esfuerzo/140)))\n"
   ]
  },
  {
   "attachments": {
    "image.png": {
     "image/png": "[encoded data removed]"
    }
   },
   "cell_type": "markdown",
   "metadata": {},
   "source": [
    "## 5. Calcular el intervalo de confianza\n",
    "\n",
    "El intervalo de confianza nos dice que tan bueno es nuestro estimado o, dicho de otra forma, que tan buenos son nuestros datos históricos. \n",
    "\n",
    "El intervalo de confianza nos dice, para una probabilidad dada, cuál es el límite superior y el límite inferior de que la respuesta real ese en ese intervalo: \n",
    "\n",
    "![image.png](attachment:image.png)\n",
    "\n",
    "El valor del límite superior corresponde al punto Y sumado el rango y el del límite inferior al punto Y menos el rango. \n",
    "\n",
    "El intervalo de confianza  nos mejora la respuesta del estimado de la siguiente forma:\n",
    "\n",
    "Con una probabilidad del $95%$ el valor real del estimado caerá en el siguiente intervalo: [Y + rango, Y - rango]\n",
    "\n",
    "Por ejemplo, para el cálculo anterior donde:\n",
    "\n",
    "$Y = 53592.88 Horas$\n",
    "\n",
    "Si el rango fuera = 2000 horas, la respuesta completa sería: \n",
    "\n",
    "El estimado es $53592.88$ Horas más o menos $2000$ horas con una probabilidad del $95\\%$\n"
   ]
  },
  {
   "cell_type": "markdown",
   "metadata": {},
   "source": [
    "Para definir el intervalo de confianza, debemos precisar la probabilidad con la que queremos quedar allí. Para esto se utiliza la  distribución t de Student que se utiliza para resolver problemas de intervalos de confianza. Se trata de una distribución de probabilidad que permite estimar la media de una población con distribución normal, pero con un tamaño de muestra pequeño.\n",
    "Calculamos el intervalo de confianza a partir del error estándar y la distribución t estudiante.\n",
    "\n",
    "Vamos a usar la siguiente fórmula:\n",
    "\n",
    "\n",
    "$ \\LARGE\\hat{y} {\\displaystyle \\pm } t_{(1-\\alpha/2,n-2)} \\sqrt{\\frac{\\sum_{i=1}^{n}(y_i-\\hat{y_i})^2}{n-2}(1+\\frac{1}{n}+\\frac{(x-\\hat{x})^2}{\\sum_{i=1}^{n}(x_i-\\bar{x_i})^2})} $\n",
    "\n",
    "En donde\n",
    "\n",
    "$\\LARGE t_{(1-\\alpha/2,n-2)}$\n",
    "\n",
    "Es la distribución t Student para una confianza 1-$\\alpha$. Vamos a calcular entonces este valor con $95%$ de confianza."
   ]
  },
  {
   "cell_type": "code",
   "execution_count": 10,
   "metadata": {},
   "outputs": [
    {
     "data": {
      "text/plain": [
       "2.5705818366147395"
      ]
     },
     "execution_count": 10,
     "metadata": {},
     "output_type": "execute_result"
    }
   ],
   "source": [
    "confianza = 0.95\n",
    "t_probabilidad = stats.t.ppf(1-((1-confianza)/2), df=len(datos)-2)\n",
    "t_probabilidad"
   ]
  },
  {
   "cell_type": "markdown",
   "metadata": {},
   "source": [
    "La siguiente parte de la ecuación consiste en:\n",
    "\n",
    "$\\LARGE\\sigma =  \\sqrt{\\frac{\\sum_{i=1}^{n}(y_i-\\hat{y_i})^2}{n-2}}$\n",
    "\n",
    "Lo que es el error estándar de la predicción."
   ]
  },
  {
   "cell_type": "code",
   "execution_count": 11,
   "metadata": {},
   "outputs": [
    {
     "data": {
      "text/markdown": [
       "El error estándar de la predicción es de 3169.7572"
      ],
      "text/plain": [
       "<IPython.core.display.Markdown object>"
      ]
     },
     "metadata": {},
     "output_type": "display_data"
    }
   ],
   "source": [
    "error_estandar = (sum((datos['Tiempo Real'] - ( regresion.intercept+(regresion.slope*datos['LOCs Totales'])))**2) / (len(datos)-2))**0.5\n",
    "\n",
    "display(Markdown('El error estándar de la predicción es de {:.4f}'.format(error_estandar)))"
   ]
  },
  {
   "cell_type": "markdown",
   "metadata": {},
   "source": [
    "Luego tenemos el término:\n",
    "\n",
    "$\\LARGE\\frac{(x-\\hat{x})^2}{\\sum_{i=1}^{n}(x_i-\\bar{x_i})^2}$\n",
    "\n",
    "En donde $x$ es el valor de las LOC para el que prediremos cosas (en este caso uno), $x_i$ es cada uno de los valores con el que ajustamos la predicción y $\\bar{x_i}$ es la media de dichos valores de LOC."
   ]
  },
  {
   "cell_type": "code",
   "execution_count": 12,
   "metadata": {},
   "outputs": [],
   "source": [
    "x_distancia = datos['LOCs Totales'] - datos['LOCs Totales'].mean()\n",
    "E = (((X-datos['LOCs Totales'].mean())**2)/( np.square(x_distancia).sum() ))\n"
   ]
  },
  {
   "cell_type": "markdown",
   "metadata": {},
   "source": [
    "\n",
    "Finalmente reemplazamos todo en la ecuación"
   ]
  },
  {
   "cell_type": "code",
   "execution_count": 13,
   "metadata": {},
   "outputs": [
    {
     "data": {
      "text/markdown": [
       "El tamaño de nuestro intervalo es de 9009.02"
      ],
      "text/plain": [
       "<IPython.core.display.Markdown object>"
      ]
     },
     "metadata": {},
     "output_type": "display_data"
    }
   ],
   "source": [
    "tamanio_intervalo = t_probabilidad*error_estandar*np.sqrt(1+(1/len(datos))+E) \n",
    "\n",
    "display(Markdown('El tamaño de nuestro intervalo es de {:.2f}'.format(tamanio_intervalo)))"
   ]
  },
  {
   "cell_type": "markdown",
   "metadata": {},
   "source": [
    "Lo que significa que nuestro intervalo será:"
   ]
  },
  {
   "cell_type": "code",
   "execution_count": 14,
   "metadata": {
    "scrolled": true
   },
   "outputs": [
    {
     "data": {
      "text/markdown": [
       "Nuestro intervalo será entonces $(44583.86,62601.90)$ con un $95.0\\%$ de confianza"
      ],
      "text/plain": [
       "<IPython.core.display.Markdown object>"
      ]
     },
     "metadata": {},
     "output_type": "display_data"
    }
   ],
   "source": [
    "intervalo = (Esfuerzo-tamanio_intervalo, Esfuerzo+tamanio_intervalo)\n",
    "\n",
    "display(Markdown('Nuestro intervalo será entonces $({:.2f},{:.2f})$ con un ${}\\%$ de confianza'.format(intervalo[0],intervalo[1], confianza*100)))"
   ]
  },
  {
   "cell_type": "markdown",
   "metadata": {},
   "source": [
    "Finalmente vamos entonces a pintar nuestra regresión, los datos reales y el intervalo de confianza."
   ]
  },
  {
   "cell_type": "code",
   "execution_count": 15,
   "metadata": {
    "scrolled": false
   },
   "outputs": [
    {
     "data": {
      "image/png": "[encoded data removed]",
      "text/plain": [
       "<Figure size 720x504 with 1 Axes>"
      ]
     },
     "metadata": {
      "needs_background": "light"
     },
     "output_type": "display_data"
    }
   ],
   "source": [
    "ax = datos.plot.scatter(x='LOCs Totales', y='Tiempo Real', label='datos reales')\n",
    "ax.set_xlabel('Tamaño (LOCs)')\n",
    "ax.set_ylabel('Esfuerzo (Horas)')\n",
    "\n",
    "\n",
    "plt.rcParams[\"figure.figsize\"]=10,7\n",
    "plt.plot(datos['LOCs Totales'], regresion.intercept+(regresion.slope*datos['LOCs Totales']),'r', label='regresión', marker='x')\n",
    "\n",
    "plt.errorbar(X, Esfuerzo, yerr=tamanio_intervalo,capsize=4, color='g', marker='o', label='Predicción con intervalos')\n",
    "\n",
    "plt.title(\"Regresión lineal para los datos\")\n",
    "plt.legend()\n",
    "plt.grid(True)\n",
    "plt.show()"
   ]
  },
  {
   "cell_type": "markdown",
   "metadata": {},
   "source": [
    "## Conclusión"
   ]
  },
  {
   "cell_type": "code",
   "execution_count": 16,
   "metadata": {},
   "outputs": [
    {
     "data": {
      "text/markdown": [
       "En conclusión, para el proyecto cuya estimación de tamaño en líneas de código es *289700 LOCs*, la estimación del esfuerzo es de *53592.88* 𝐻𝑜𝑟𝑎s."
      ],
      "text/plain": [
       "<IPython.core.display.Markdown object>"
      ]
     },
     "metadata": {},
     "output_type": "display_data"
    },
    {
     "data": {
      "text/markdown": [
       "Esta respuesta de esfuerzo estimado puede variar entre *44583.86 y 62601.90*  con un 95.0% de confianza."
      ],
      "text/plain": [
       "<IPython.core.display.Markdown object>"
      ]
     },
     "metadata": {},
     "output_type": "display_data"
    },
    {
     "data": {
      "text/markdown": [
       "Este intervalo corresponde a una diferencia de más o menos el 16.8% del valor estimado lo que nos lleva a concluir que, si las caracteristicas del nuevo proyecto son similares a las de los proyectos en los datos históricos, el estimado es bastante bueno porque el error será solo del 16.8."
      ],
      "text/plain": [
       "<IPython.core.display.Markdown object>"
      ]
     },
     "metadata": {},
     "output_type": "display_data"
    }
   ],
   "source": [
    "display(Markdown(\"En conclusión, para el proyecto cuya estimación de tamaño en líneas de código es *{} LOCs*, la estimación del esfuerzo es de *{:.2f}* 𝐻𝑜𝑟𝑎s.\".format(X, Esfuerzo)))\n",
    "display(Markdown(\"Esta respuesta de esfuerzo estimado puede variar entre *{:.2f} y {:.2f}*  con un {}% de confianza.\".format(intervalo[0],intervalo[1], confianza*100)))\n",
    "display(Markdown(\"Este intervalo corresponde a una diferencia de más o menos el {0:.1f}% del valor estimado lo que nos lleva a concluir que, si las caracteristicas del nuevo proyecto son similares a las de los proyectos en los datos históricos, el estimado es bastante bueno porque el error será solo del {0:.1f}.\".format(100-(intervalo[0]*100/Esfuerzo))))"
   ]
  },
  {
   "cell_type": "markdown",
   "metadata": {},
   "source": [
    "## Referencias\n",
    "[1] Watts S. Humphrey. A Discipline for Software Engineering. Addison-Wesley, 1995. Recurso electrónico disponible en la base de datos de O´Reilly de la biblioteca.uniandes.edu.co \n",
    " \n",
    "[2] Barry W. Boehm, Chris Abts, A. Winsor Brown, Bradford K. Clark, Sunita Chulani. Software Cost Estimation with COCOMO II. Prentice Hall, 2009. Recurso electrónico disponible en la base de datos de O´Reilly de la biblioteca.uniandes.edu.co \n"
   ]
  }
 ],
 "metadata": {
  "kernelspec": {
   "display_name": "Python 3",
   "language": "python",
   "name": "python3"
  },
  "language_info": {
   "codemirror_mode": {
    "name": "ipython",
    "version": 3
   },
   "file_extension": ".py",
   "mimetype": "text/x-python",
   "name": "python",
   "nbconvert_exporter": "python",
   "pygments_lexer": "ipython3",
   "version": "3.7.6"
  }
 },
 "nbformat": 4,
 "nbformat_minor": 4
}
